{
 "cells": [
  {
   "cell_type": "code",
   "execution_count": 1,
   "metadata": {},
   "outputs": [
    {
     "name": "stdout",
     "output_type": "stream",
     "text": [
      "C:\\Users\\20584059\\Desktop\n"
     ]
    }
   ],
   "source": [
    "#specify the path to the csvfile\n",
    "cd C:\\Users\\20584059\\Desktop\\"
   ]
  },
  {
   "cell_type": "code",
   "execution_count": 1,
   "metadata": {
    "collapsed": true
   },
   "outputs": [],
   "source": [
    "#Import packages\n",
    "import pandas as pd\n",
    "import matplotlib.pyplot as plt\n",
    "import numpy as np\n",
    "import random as rd"
   ]
  },
  {
   "cell_type": "code",
   "execution_count": 11,
   "metadata": {
    "collapsed": true
   },
   "outputs": [],
   "source": [
    "#Transform the csvfile in a dataframe concatente its columns and drop redundant urls\n",
    "data=pd.read_csv(\"filename.csv\",header=None)\n",
    "df1=data[0]\n",
    "df2=data[1]\n",
    "df3=data[2]\n",
    "df4=data[3]\n",
    "df5=data[4]\n",
    "df6=data[5]\n",
    "df7=data[6]\n",
    "df8=data[7]\n",
    "df9=data[8]\n",
    "df10=data[9]\n",
    "df11=data[10]\n",
    "df12=data[11]\n",
    "df13=data[12]\n",
    "df14=data[13]\n",
    "df15=data[14]\n",
    "df16=data[15]"
   ]
  },
  {
   "cell_type": "code",
   "execution_count": 14,
   "metadata": {
    "collapsed": true
   },
   "outputs": [],
   "source": [
    "datas=df1.append([df2,df3,df4,df5,df6,df7,df8,df9,df10,df11,df12,df13,df14,df15,df16], ignore_index=True)"
   ]
  },
  {
   "cell_type": "code",
   "execution_count": 15,
   "metadata": {
    "collapsed": true
   },
   "outputs": [],
   "source": [
    "datass=datas.drop_duplicates(keep='last',inplace=False)"
   ]
  },
  {
   "cell_type": "code",
   "execution_count": 17,
   "metadata": {
    "collapsed": true
   },
   "outputs": [],
   "source": [
    "datass.to_csv('newfilename.csv')"
   ]
  },
  {
   "cell_type": "code",
   "execution_count": 8,
   "metadata": {},
   "outputs": [
    {
     "name": "stdout",
     "output_type": "stream",
     "text": [
      "edu/Image saved for http://vision.cs.utexas.edu/projects/StyleEmbedding/attributes_dataset.tar\n",
      "\n"
     ]
    }
   ],
   "source": [
    "import urllib.request\n",
    "\n",
    "filename = \"newfilename\"\n",
    "\n",
    "# open file to read\n",
    "with open(\"{0}.csv\".format(filename), 'r') as csvfile:\n",
    "    # iterate on all lines\n",
    "    i = 0\n",
    "   # for line in csvfile:\n",
    "    splitted_line = line.split(',')\n",
    "        # check if we have an image URL\n",
    "    if splitted_line[0] != '' and splitted_line[0] != \"\\n\":\n",
    "        urllib.request.urlretrieve(splitted_line[0], \"filename_in directory_\" + str(i))\n",
    "        print (\"folder/Image saved for {0}\".format(splitted_line[0]))\n",
    "        i += 1\n",
    "    else:\n",
    "        print (\"No result for {0}\".format(splitted_line[0]))"
   ]
  },
  {
   "cell_type": "code",
   "execution_count": 19,
   "metadata": {},
   "outputs": [
    {
     "ename": "AssertionError",
     "evalue": "group argument must be None for now",
     "output_type": "error",
     "traceback": [
      "\u001b[1;31m---------------------------------------------------------------------------\u001b[0m",
      "\u001b[1;31mAssertionError\u001b[0m                            Traceback (most recent call last)",
      "\u001b[1;32m<ipython-input-19-2cb13df5d4fa>\u001b[0m in \u001b[0;36m<module>\u001b[1;34m()\u001b[0m\n\u001b[0;32m     13\u001b[0m \u001b[1;33m\u001b[0m\u001b[0m\n\u001b[0;32m     14\u001b[0m \u001b[1;33m\u001b[0m\u001b[0m\n\u001b[1;32m---> 15\u001b[1;33m \u001b[0mDownloader\u001b[0m\u001b[1;33m(\u001b[0m\u001b[1;34m'http://vision.cs.utexas.edu/projects/StyleEmbedding/attributes_dataset.tar'\u001b[0m\u001b[1;33m,\u001b[0m\u001b[1;34m\"FASHION\\edu\\images\\attributes_dataset.tar\"\u001b[0m\u001b[1;33m)\u001b[0m\u001b[1;33m.\u001b[0m\u001b[0mstart\u001b[0m\u001b[1;33m(\u001b[0m\u001b[1;33m)\u001b[0m\u001b[1;33m\u001b[0m\u001b[0m\n\u001b[0m",
      "\u001b[1;32m<ipython-input-19-2cb13df5d4fa>\u001b[0m in \u001b[0;36m__init__\u001b[1;34m(self, file_url, save_path)\u001b[0m\n\u001b[0;32m      4\u001b[0m \u001b[1;32mclass\u001b[0m \u001b[0mDownloader\u001b[0m\u001b[1;33m(\u001b[0m\u001b[0mThread\u001b[0m\u001b[1;33m)\u001b[0m\u001b[1;33m:\u001b[0m\u001b[1;33m\u001b[0m\u001b[0m\n\u001b[0;32m      5\u001b[0m     \u001b[1;32mdef\u001b[0m \u001b[0m__init__\u001b[0m\u001b[1;33m(\u001b[0m\u001b[0mself\u001b[0m\u001b[1;33m,\u001b[0m \u001b[0mfile_url\u001b[0m\u001b[1;33m,\u001b[0m \u001b[0msave_path\u001b[0m\u001b[1;33m)\u001b[0m\u001b[1;33m:\u001b[0m\u001b[1;33m\u001b[0m\u001b[0m\n\u001b[1;32m----> 6\u001b[1;33m         \u001b[0mThread\u001b[0m\u001b[1;33m.\u001b[0m\u001b[0m__init__\u001b[0m\u001b[1;33m(\u001b[0m\u001b[0mself\u001b[0m\u001b[1;33m,\u001b[0m\u001b[0msave_path\u001b[0m\u001b[1;33m)\u001b[0m\u001b[1;33m\u001b[0m\u001b[0m\n\u001b[0m\u001b[0;32m      7\u001b[0m         \u001b[0mself\u001b[0m\u001b[1;33m.\u001b[0m\u001b[0mfile_url\u001b[0m \u001b[1;33m=\u001b[0m \u001b[0mfile_url\u001b[0m\u001b[1;33m\u001b[0m\u001b[0m\n\u001b[0;32m      8\u001b[0m         \u001b[0mself\u001b[0m\u001b[1;33m.\u001b[0m\u001b[0msave_path\u001b[0m \u001b[1;33m=\u001b[0m \u001b[0msave_path\u001b[0m\u001b[1;33m\u001b[0m\u001b[0m\n",
      "\u001b[1;32mC:\\ProgramData\\Anaconda34.4.0\\lib\\threading.py\u001b[0m in \u001b[0;36m__init__\u001b[1;34m(self, group, target, name, args, kwargs, daemon)\u001b[0m\n\u001b[0;32m    778\u001b[0m \u001b[1;33m\u001b[0m\u001b[0m\n\u001b[0;32m    779\u001b[0m         \"\"\"\n\u001b[1;32m--> 780\u001b[1;33m         \u001b[1;32massert\u001b[0m \u001b[0mgroup\u001b[0m \u001b[1;32mis\u001b[0m \u001b[1;32mNone\u001b[0m\u001b[1;33m,\u001b[0m \u001b[1;34m\"group argument must be None for now\"\u001b[0m\u001b[1;33m\u001b[0m\u001b[0m\n\u001b[0m\u001b[0;32m    781\u001b[0m         \u001b[1;32mif\u001b[0m \u001b[0mkwargs\u001b[0m \u001b[1;32mis\u001b[0m \u001b[1;32mNone\u001b[0m\u001b[1;33m:\u001b[0m\u001b[1;33m\u001b[0m\u001b[0m\n\u001b[0;32m    782\u001b[0m             \u001b[0mkwargs\u001b[0m \u001b[1;33m=\u001b[0m \u001b[1;33m{\u001b[0m\u001b[1;33m}\u001b[0m\u001b[1;33m\u001b[0m\u001b[0m\n",
      "\u001b[1;31mAssertionError\u001b[0m: group argument must be None for now"
     ]
    }
   ],
   "source": [
    "import urllib.request\n",
    "from threading import Thread\n",
    "\n",
    "class Downloader(Thread):\n",
    "    def __init__(self, file_url, save_path):\n",
    "        Thread.__init__(self,save_path)\n",
    "        self.file_url = file_url\n",
    "        self.save_path = save_path\n",
    "\n",
    "\n",
    "    def run(self):\n",
    "        urllib.request.urlretrieve(self.file_url)\n",
    "\n",
    "\n",
    "Downloader('http://vision.cs.utexas.edu/projects/StyleEmbedding/attributes_dataset.tar',\"FASHION\\edu\\images\\attributes_dataset.tar\").start()"
   ]
  },
  {
   "cell_type": "code",
   "execution_count": 26,
   "metadata": {},
   "outputs": [
    {
     "name": "stderr",
     "output_type": "stream",
     "text": [
      "Exception in thread Thread-54:\n",
      "Traceback (most recent call last):\n",
      "  File \"C:\\ProgramData\\Anaconda34.4.0\\lib\\threading.py\", line 916, in _bootstrap_inner\n",
      "    self.run()\n",
      "  File \"C:\\ProgramData\\Anaconda34.4.0\\lib\\threading.py\", line 864, in run\n",
      "    self._target(*self._args, **self._kwargs)\n",
      "  File \"<ipython-input-26-b56ae9c9433b>\", line 7, in getter\n",
      "    results.append(urllib.request.urlretreave(url, dest))\n",
      "AttributeError: module 'urllib.request' has no attribute 'urlretreave'\n",
      "\n",
      "Exception in thread Thread-55:\n",
      "Traceback (most recent call last):\n",
      "  File \"C:\\ProgramData\\Anaconda34.4.0\\lib\\threading.py\", line 916, in _bootstrap_inner\n",
      "    self.run()\n",
      "  File \"C:\\ProgramData\\Anaconda34.4.0\\lib\\threading.py\", line 864, in run\n",
      "    self._target(*self._args, **self._kwargs)\n",
      "  File \"<ipython-input-26-b56ae9c9433b>\", line 7, in getter\n",
      "    results.append(urllib.request.urlretreave(url, dest))\n",
      "AttributeError: module 'urllib.request' has no attribute 'urlretreave'\n",
      "\n",
      "Exception in thread Thread-57:\n",
      "Traceback (most recent call last):\n",
      "  File \"C:\\ProgramData\\Anaconda34.4.0\\lib\\threading.py\", line 916, in _bootstrap_inner\n",
      "    self.run()\n",
      "  File \"C:\\ProgramData\\Anaconda34.4.0\\lib\\threading.py\", line 864, in run\n",
      "    self._target(*self._args, **self._kwargs)\n",
      "  File \"<ipython-input-26-b56ae9c9433b>\", line 7, in getter\n",
      "    results.append(urllib.request.urlretreave(url, dest))\n",
      "AttributeError: module 'urllib.request' has no attribute 'urlretreave'\n",
      "Exception in thread Thread-56:\n",
      "Traceback (most recent call last):\n",
      "  File \"C:\\ProgramData\\Anaconda34.4.0\\lib\\threading.py\", line 916, in _bootstrap_inner\n",
      "    self.run()\n",
      "  File \"C:\\ProgramData\\Anaconda34.4.0\\lib\\threading.py\", line 864, in run\n",
      "    self._target(*self._args, **self._kwargs)\n",
      "  File \"<ipython-input-26-b56ae9c9433b>\", line 7, in getter\n",
      "    results.append(urllib.request.urlretreave(url, dest))\n",
      "AttributeError: module 'urllib.request' has no attribute 'urlretreave'\n",
      "\n",
      "\n",
      "Exception in thread Thread-58:\n",
      "Traceback (most recent call last):\n",
      "  File \"C:\\ProgramData\\Anaconda34.4.0\\lib\\threading.py\", line 916, in _bootstrap_inner\n",
      "    self.run()\n",
      "  File \"C:\\ProgramData\\Anaconda34.4.0\\lib\\threading.py\", line 864, in run\n",
      "    self._target(*self._args, **self._kwargs)\n",
      "  File \"<ipython-input-26-b56ae9c9433b>\", line 7, in getter\n",
      "    results.append(urllib.request.urlretreave(url, dest))\n",
      "AttributeError: module 'urllib.request' has no attribute 'urlretreave'\n",
      "\n",
      "Exception in thread Thread-59:\n",
      "Traceback (most recent call last):\n",
      "  File \"C:\\ProgramData\\Anaconda34.4.0\\lib\\threading.py\", line 916, in _bootstrap_inner\n",
      "    self.run()\n",
      "  File \"C:\\ProgramData\\Anaconda34.4.0\\lib\\threading.py\", line 864, in run\n",
      "    self._target(*self._args, **self._kwargs)\n",
      "  File \"<ipython-input-26-b56ae9c9433b>\", line 7, in getter\n",
      "    results.append(urllib.request.urlretreave(url, dest))\n",
      "AttributeError: module 'urllib.request' has no attribute 'urlretreave'\n",
      "\n",
      "Exception in thread Thread-60:\n",
      "Traceback (most recent call last):\n",
      "  File \"C:\\ProgramData\\Anaconda34.4.0\\lib\\threading.py\", line 916, in _bootstrap_inner\n",
      "    self.run()\n",
      "  File \"C:\\ProgramData\\Anaconda34.4.0\\lib\\threading.py\", line 864, in run\n",
      "    self._target(*self._args, **self._kwargs)\n",
      "  File \"<ipython-input-26-b56ae9c9433b>\", line 7, in getter\n",
      "    results.append(urllib.request.urlretreave(url, dest))\n",
      "AttributeError: module 'urllib.request' has no attribute 'urlretreave'\n",
      "\n",
      "Exception in thread Thread-61:\n",
      "Traceback (most recent call last):\n",
      "  File \"C:\\ProgramData\\Anaconda34.4.0\\lib\\threading.py\", line 916, in _bootstrap_inner\n",
      "    self.run()\n",
      "  File \"C:\\ProgramData\\Anaconda34.4.0\\lib\\threading.py\", line 864, in run\n",
      "    self._target(*self._args, **self._kwargs)\n",
      "  File \"<ipython-input-26-b56ae9c9433b>\", line 7, in getter\n",
      "    results.append(urllib.request.urlretreave(url, dest))\n",
      "AttributeError: module 'urllib.request' has no attribute 'urlretreave'\n",
      "\n",
      "Exception in thread Thread-62:\n",
      "Traceback (most recent call last):\n",
      "  File \"C:\\ProgramData\\Anaconda34.4.0\\lib\\threading.py\", line 916, in _bootstrap_inner\n",
      "    self.run()\n",
      "  File \"C:\\ProgramData\\Anaconda34.4.0\\lib\\threading.py\", line 864, in run\n",
      "    self._target(*self._args, **self._kwargs)\n",
      "  File \"<ipython-input-26-b56ae9c9433b>\", line 7, in getter\n",
      "    results.append(urllib.request.urlretreave(url, dest))\n",
      "AttributeError: module 'urllib.request' has no attribute 'urlretreave'\n",
      "\n",
      "Exception in thread Thread-63:\n",
      "Traceback (most recent call last):\n",
      "  File \"C:\\ProgramData\\Anaconda34.4.0\\lib\\threading.py\", line 916, in _bootstrap_inner\n",
      "    self.run()\n",
      "  File \"C:\\ProgramData\\Anaconda34.4.0\\lib\\threading.py\", line 864, in run\n",
      "    self._target(*self._args, **self._kwargs)\n",
      "  File \"<ipython-input-26-b56ae9c9433b>\", line 7, in getter\n",
      "    results.append(urllib.request.urlretreave(url, dest))\n",
      "AttributeError: module 'urllib.request' has no attribute 'urlretreave'\n",
      "\n"
     ]
    },
    {
     "data": {
      "text/plain": [
       "<map at 0xb591a3efd0>"
      ]
     },
     "execution_count": 26,
     "metadata": {},
     "output_type": "execute_result"
    }
   ],
   "source": [
    "import urllib.request\n",
    "import threading\n",
    "from threading import Thread\n",
    "\n",
    "results = []\n",
    "def getter(url, dest):\n",
    "   results.append(urllib.request.urlretreave(url, dest))\n",
    "\n",
    "threads = []\n",
    "for x in range(0,10):\n",
    "    t = threading.Thread(target=getter, args=('http://vision.cs.utexas.edu/projects/StyleEmbedding/attributes_dataset.tar',\n",
    "                                              'FASHION\\edu\\images\\attributes_dataset.tar'))\n",
    "    t.start()\n",
    "    threads.append(t)\n",
    "# wait for all threads to finish\n",
    "# You can continue doing whatever you want and\n",
    "# join the threads when you finally need the results.\n",
    "# They will fatch your urls in the background without\n",
    "# blocking your main application.\n",
    "map(lambda t: t.join(), threads)"
   ]
  },
  {
   "cell_type": "code",
   "execution_count": null,
   "metadata": {
    "collapsed": true
   },
   "outputs": [],
   "source": []
  }
 ],
 "metadata": {
  "kernelspec": {
   "display_name": "Python 3",
   "language": "python",
   "name": "python3"
  },
  "language_info": {
   "codemirror_mode": {
    "name": "ipython",
    "version": 3
   },
   "file_extension": ".py",
   "mimetype": "text/x-python",
   "name": "python",
   "nbconvert_exporter": "python",
   "pygments_lexer": "ipython3",
   "version": "3.6.6"
  }
 },
 "nbformat": 4,
 "nbformat_minor": 2
}
