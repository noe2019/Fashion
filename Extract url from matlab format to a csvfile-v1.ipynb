{
 "cells": [
  {
   "cell_type": "code",
   "execution_count": null,
   "metadata": {
    "collapsed": true
   },
   "outputs": [],
   "source": [
    "!python -m pip install git+https://github.com/fastai/fastai.git"
   ]
  },
  {
   "cell_type": "code",
   "execution_count": 3,
   "metadata": {
    "collapsed": true
   },
   "outputs": [],
   "source": [
    "#Read in the file and print the keys of the dictionary. These keys correspond to the variable stored in the original .mat file. \n",
    "import numpy as np\n",
    "import scipy.io as spio\n",
    "from scipy.io import loadmat  # this is the SciPy module that loads mat-files\n",
    "\n",
    "matfile = 'matlabformat.mat'\n",
    "matdata = spio.loadmat(matfile)"
   ]
  },
  {
   "cell_type": "code",
   "execution_count": 5,
   "metadata": {},
   "outputs": [
    {
     "name": "stdout",
     "output_type": "stream",
     "text": [
      "http://thechive.files.wordpress.com/2013/03/finland-hipsters-fashion-24.jpg\n"
     ]
    }
   ],
   "source": [
    "#Select the only key with data\n",
    "data=matdata['folder containing urls']\n",
    "t = data   # Just look at one set of data\n",
    "#Grab urls from key array\n",
    "url=[]\n",
    "for i in range(len(t['url'])):\n",
    "  url.append(t['url'][i][0][0])\n",
    "print(url[100])"
   ]
  },
  {
   "cell_type": "code",
   "execution_count": null,
   "metadata": {
    "collapsed": true
   },
   "outputs": [],
   "source": [
    "# script to grab images from urls in csvfile\n",
    "import urllib.request\n",
    "\n",
    "#shutil.move(\"/content/urldatafile.csv\", \"/content/hipster\")\n",
    "\n",
    "filename = \"urldatafile\"\n",
    "\n",
    "# open file to read\n",
    "with open(\"{0}.csv\".format(filename), 'r') as csvfile:\n",
    "    # iterate on all lines\n",
    "    i = 0\n",
    "    for line in csvfile:\n",
    "        splitted_line = line.split(',')\n",
    "        # check if we have an image URL\n",
    "        if splitted_line[1] != '' and splitted_line[1] != \"\\n\":\n",
    "            urllib.request.urlretrieve(splitted_line[1], \"filename_\" + str(i) + \".jpg\")\n",
    "            print (\"directory/name in directory {0}\".format(splitted_line[0]))\n",
    "            i += 1\n",
    "        else:\n",
    "            print (\"No result for {0}\".format(splitted_line[0]))"
   ]
  }
 ],
 "metadata": {
  "kernelspec": {
   "display_name": "Python 3",
   "language": "python",
   "name": "python3"
  },
  "language_info": {
   "codemirror_mode": {
    "name": "ipython",
    "version": 3
   },
   "file_extension": ".py",
   "mimetype": "text/x-python",
   "name": "python",
   "nbconvert_exporter": "python",
   "pygments_lexer": "ipython3",
   "version": "3.6.6"
  }
 },
 "nbformat": 4,
 "nbformat_minor": 2
}
